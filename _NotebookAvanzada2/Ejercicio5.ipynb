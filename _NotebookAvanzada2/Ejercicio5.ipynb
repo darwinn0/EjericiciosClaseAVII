{
 "cells": [
  {
   "cell_type": "code",
   "execution_count": null,
   "id": "8abe1519-1732-4695-ae04-1be07f59d669",
   "metadata": {},
   "outputs": [],
   "source": []
  }
 ],
 "metadata": {
  "kernelspec": {
   "display_name": "",
   "name": ""
  },
  "language_info": {
   "name": ""
  }
 },
 "nbformat": 4,
 "nbformat_minor": 5
}
