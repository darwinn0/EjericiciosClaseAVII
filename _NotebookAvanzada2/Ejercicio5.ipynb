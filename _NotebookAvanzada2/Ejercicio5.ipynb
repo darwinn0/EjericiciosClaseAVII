{
 "cells": [
  {
   "cell_type": "code",
   "execution_count": 1,
   "id": "8abe1519-1732-4695-ae04-1be07f59d669",
   "metadata": {},
   "outputs": [
    {
     "name": "stdout",
     "output_type": "stream",
     "text": [
      "La suma es: 7\n",
      "La resta es 1\n",
      "La multiplicacion es 4\n",
      "La division es 5.0\n",
      "La potencia es 8\n"
     ]
    }
   ],
   "source": [
    "def suma(a,b):\n",
    "    return a+b\n",
    "\n",
    "def resta(a,b):\n",
    "    return a-b\n",
    "\n",
    "def multiplicacion(a,b):\n",
    "    return a*b\n",
    "\n",
    "def division(a,b):\n",
    "    return a/b\n",
    "\n",
    "def potencia(a,b):\n",
    "    return a**b\n",
    "\n",
    "print(f\"La suma es: {suma(3,4)}\")\n",
    "print(f\"La resta es {resta(5,4)}\")\n",
    "print(f\"La multiplicacion es {multiplicacion(2,2)}\")\n",
    "print(f\"La division es {division(10,2)}\")\n",
    "print(F\"La potencia es {potencia(2,3)}\")\n"
   ]
  }
 ],
 "metadata": {
  "kernelspec": {
   "display_name": "base",
   "language": "python",
   "name": "python3"
  },
  "language_info": {
   "codemirror_mode": {
    "name": "ipython",
    "version": 3
   },
   "file_extension": ".py",
   "mimetype": "text/x-python",
   "name": "python",
   "nbconvert_exporter": "python",
   "pygments_lexer": "ipython3",
   "version": "3.12.7"
  }
 },
 "nbformat": 4,
 "nbformat_minor": 5
}
