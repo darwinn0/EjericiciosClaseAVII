{
 "cells": [
  {
   "cell_type": "code",
   "execution_count": 1,
   "id": "b1e68979-590f-494d-8128-df1df5e1c3a9",
   "metadata": {},
   "outputs": [
    {
     "data": {
      "text/plain": [
       "3"
      ]
     },
     "execution_count": 1,
     "metadata": {},
     "output_type": "execute_result"
    }
   ],
   "source": [
    "1+2"
   ]
  },
  {
   "cell_type": "code",
   "execution_count": 3,
   "id": "9d4b478f-daf5-4e17-b8c7-8b500f07028f",
   "metadata": {},
   "outputs": [
    {
     "data": {
      "text/plain": [
       "3"
      ]
     },
     "execution_count": 3,
     "metadata": {},
     "output_type": "execute_result"
    }
   ],
   "source": [
    "a=1+2\n",
    "a"
   ]
  },
  {
   "cell_type": "code",
   "execution_count": 5,
   "id": "e16cde3c-f02a-4255-a570-f7c3ce305b7e",
   "metadata": {},
   "outputs": [],
   "source": [
    "# SE TERMINO TODO "
   ]
  },
  {
   "cell_type": "markdown",
   "id": "b8410a39-b0c5-4775-86fe-a76602543594",
   "metadata": {},
   "source": [
    "# Darwin Guzman\n",
    "## SANTA BARBARA\n",
    "* El mirador"
   ]
  },
  {
   "cell_type": "code",
   "execution_count": null,
   "id": "3b0afa1e-3f5a-4172-95f1-39f046cc8757",
   "metadata": {},
   "outputs": [],
   "source": []
  }
 ],
 "metadata": {
  "kernelspec": {
   "display_name": "Python [conda env:base] *",
   "language": "python",
   "name": "conda-base-py"
  },
  "language_info": {
   "codemirror_mode": {
    "name": "ipython",
    "version": 3
   },
   "file_extension": ".py",
   "mimetype": "text/x-python",
   "name": "python",
   "nbconvert_exporter": "python",
   "pygments_lexer": "ipython3",
   "version": "3.12.7"
  }
 },
 "nbformat": 4,
 "nbformat_minor": 5
}
