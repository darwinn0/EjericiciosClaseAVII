{
 "cells": [
  {
   "cell_type": "code",
   "execution_count": null,
   "id": "548cfd57-f9bc-4262-b51e-fff900f3b3ea",
   "metadata": {},
   "outputs": [],
   "source": []
  }
 ],
 "metadata": {
  "kernelspec": {
   "display_name": "",
   "name": ""
  },
  "language_info": {
   "name": ""
  }
 },
 "nbformat": 4,
 "nbformat_minor": 5
}
