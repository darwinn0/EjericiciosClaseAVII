{
 "cells": [
  {
   "cell_type": "code",
   "execution_count": null,
   "id": "848a6b5e-1844-4a34-984c-5f4ebd894ad9",
   "metadata": {},
   "outputs": [],
   "source": []
  }
 ],
 "metadata": {
  "kernelspec": {
   "display_name": "",
   "name": ""
  },
  "language_info": {
   "name": ""
  }
 },
 "nbformat": 4,
 "nbformat_minor": 5
}
