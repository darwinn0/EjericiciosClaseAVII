{
 "cells": [
  {
   "cell_type": "code",
   "execution_count": 19,
   "id": "a829368d-5ca2-4b4d-8465-350d1dc44e25",
   "metadata": {},
   "outputs": [
    {
     "name": "stdin",
     "output_type": "stream",
     "text": [
      "Ingrese la cantidad de producto:  4\n"
     ]
    },
    {
     "name": "stdout",
     "output_type": "stream",
     "text": [
      "Factura:\n",
      "Cliente: Lucas Perez Paz\n",
      "producto: Laptop\n",
      "cantidad: 4\n",
      "precio: 1500.0\n",
      "subtotal: 6000.0\n",
      "descuento: 600.0\n",
      "impuesto: 900.0\n",
      "total: 6300.0\n"
     ]
    }
   ],
   "source": [
    "cliente=\"Darwin Guzman\"\n",
    "producto=\"Laptop\"\n",
    "cantidad=int(input(\"Ingrese la cantidad de producto: \"))\n",
    "precio=1500.00\n",
    "subtotal=cantidad * precio\n",
    "descuento=0.10*subtotal  \n",
    "impuesto=0.15*subtotal  \n",
    "total=subtotal - descuento + impuesto\n",
    "\n",
    "factura={\"Cliente\":cliente,\n",
    "         \"producto\":producto,\n",
    "         \"cantidad\":cantidad,\n",
    "         \"precio\":precio,\n",
    "         \"subtotal\":subtotal,\n",
    "         \"descuento\":descuento,\n",
    "         \"impuesto\":impuesto,\n",
    "         \"total\":total,\n",
    "         }\n",
    "\n",
    "print(\"Factura:\")\n",
    "for clave, valor in factura.items():\n",
    "    print(f\"{clave}: {valor}\")"
   ]
  },
  {
   "cell_type": "code",
   "execution_count": 4,
   "id": "3541cd86-7a18-42ef-9a39-a138f7f84ab1",
   "metadata": {},
   "outputs": [
    {
     "ename": "NameError",
     "evalue": "name 'factura' is not defined",
     "output_type": "error",
     "traceback": [
      "\u001b[1;31m---------------------------------------------------------------------------\u001b[0m",
      "\u001b[1;31mNameError\u001b[0m                                 Traceback (most recent call last)",
      "Cell \u001b[1;32mIn[4], line 2\u001b[0m\n\u001b[0;32m      1\u001b[0m \u001b[38;5;28;01mimport\u001b[39;00m \u001b[38;5;21;01mpandas\u001b[39;00m \u001b[38;5;28;01mas\u001b[39;00m \u001b[38;5;21;01mpd\u001b[39;00m\n\u001b[1;32m----> 2\u001b[0m df \u001b[38;5;241m=\u001b[39m pd\u001b[38;5;241m.\u001b[39mDataFrame([factura])\n\u001b[0;32m      3\u001b[0m df\n",
      "\u001b[1;31mNameError\u001b[0m: name 'factura' is not defined"
     ]
    }
   ],
   "source": [
    "\n",
    "import pandas as pd\n",
    "df = pd.DataFrame([factura])\n",
    "df\n"
   ]
  },
  {
   "cell_type": "code",
   "execution_count": null,
   "id": "b0ab0659-1df5-4376-b766-5be13f2aa212",
   "metadata": {},
   "outputs": [],
   "source": []
  }
 ],
 "metadata": {
  "kernelspec": {
   "display_name": "Python [conda env:base] *",
   "language": "python",
   "name": "conda-base-py"
  },
  "language_info": {
   "codemirror_mode": {
    "name": "ipython",
    "version": 3
   },
   "file_extension": ".py",
   "mimetype": "text/x-python",
   "name": "python",
   "nbconvert_exporter": "python",
   "pygments_lexer": "ipython3",
   "version": "3.12.7"
  }
 },
 "nbformat": 4,
 "nbformat_minor": 5
}
