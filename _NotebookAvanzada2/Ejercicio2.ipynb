{
 "cells": [
  {
   "cell_type": "code",
   "execution_count": 1,
   "id": "f1cbffd0-6c49-4b67-9076-d33adb40fa05",
   "metadata": {},
   "outputs": [
    {
     "name": "stdout",
     "output_type": "stream",
     "text": [
      "La edad que usted tiene es 19\n",
      "ya eres cuidadano\n",
      "ya tienes 19 anios, eres menor de edad.\n"
     ]
    }
   ],
   "source": [
    "#Calcular la edad de una persona\n",
    "fNacimiento=int(input(\"Por favor ingrese la fecha de nacimiento: \"))\n",
    "anioActual = 2025\n",
    "\n",
    "edad = anioActual - fNacimiento\n",
    "print (f\"La edad que usted tiene es {edad}\")\n",
    "\n",
    "if edad >=21:\n",
    "    print(f\"ya tiene {edad} años, ya eres mayor de edad.\")\n",
    "else:\n",
    "    if edad >= 18:\n",
    "        print(\"ya eres cuidadano\")\n",
    "    print(f\"ya tienes {edad} anios, eres menor de edad.\")\n",
    "\n",
    "\n",
    "\n",
    "\n"
   ]
  }
 ],
 "metadata": {
  "kernelspec": {
   "display_name": "base",
   "language": "python",
   "name": "python3"
  },
  "language_info": {
   "codemirror_mode": {
    "name": "ipython",
    "version": 3
   },
   "file_extension": ".py",
   "mimetype": "text/x-python",
   "name": "python",
   "nbconvert_exporter": "python",
   "pygments_lexer": "ipython3",
   "version": "3.12.7"
  }
 },
 "nbformat": 4,
 "nbformat_minor": 5
}
