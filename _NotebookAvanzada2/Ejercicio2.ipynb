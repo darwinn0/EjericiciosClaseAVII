{
 "cells": [
  {
   "cell_type": "code",
   "execution_count": null,
   "id": "f1cbffd0-6c49-4b67-9076-d33adb40fa05",
   "metadata": {},
   "outputs": [],
   "source": []
  }
 ],
 "metadata": {
  "kernelspec": {
   "display_name": "",
   "name": ""
  },
  "language_info": {
   "name": ""
  }
 },
 "nbformat": 4,
 "nbformat_minor": 5
}
