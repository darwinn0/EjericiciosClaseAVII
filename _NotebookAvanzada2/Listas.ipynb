{
 "cells": [
  {
   "cell_type": "code",
   "execution_count": 18,
   "id": "06167eb4-659c-4bdc-a20e-2ee351ac80a2",
   "metadata": {},
   "outputs": [],
   "source": [
    "frutas=[\"Banana\", \"Ciruela\", \"Naranja\", \"Pera\",\"Uva\"]"
   ]
  },
  {
   "cell_type": "code",
   "execution_count": 19,
   "id": "2cc6b35b-96cd-4b45-adb7-73decc2847d3",
   "metadata": {},
   "outputs": [
    {
     "data": {
      "text/plain": [
       "list"
      ]
     },
     "execution_count": 19,
     "metadata": {},
     "output_type": "execute_result"
    }
   ],
   "source": [
    "type(frutas)"
   ]
  },
  {
   "cell_type": "code",
   "execution_count": 20,
   "id": "88d9d8f0-64f6-4ac9-a073-75d706033649",
   "metadata": {},
   "outputs": [
    {
     "data": {
      "text/plain": [
       "list"
      ]
     },
     "execution_count": 20,
     "metadata": {},
     "output_type": "execute_result"
    }
   ],
   "source": [
    "listas=[[1,2,3], [\"a\", \"b\", \"c\"], [True, False]]\n",
    "type(listas)"
   ]
  },
  {
   "cell_type": "code",
   "execution_count": 21,
   "id": "1bf210bb-3977-4c30-8887-88aec14c8624",
   "metadata": {},
   "outputs": [
    {
     "data": {
      "text/plain": [
       "list"
      ]
     },
     "execution_count": 21,
     "metadata": {},
     "output_type": "execute_result"
    }
   ],
   "source": [
    "mixta=[1,\"A\",True, 3.14]\n",
    "type(mixta)"
   ]
  },
  {
   "cell_type": "code",
   "execution_count": 22,
   "id": "0046e11d-c0f8-466e-9b34-49d994df200a",
   "metadata": {},
   "outputs": [],
   "source": [
    "frutas.append(\"Mango\")\n"
   ]
  },
  {
   "cell_type": "code",
   "execution_count": 23,
   "id": "6587063b-771e-4112-9e53-9e0001f6c25b",
   "metadata": {},
   "outputs": [
    {
     "data": {
      "text/plain": [
       "['Banana', 'Ciruela', 'Kiwi', 'Naranja', 'Pera', 'Uva', 'Mango']"
      ]
     },
     "execution_count": 23,
     "metadata": {},
     "output_type": "execute_result"
    }
   ],
   "source": [
    "frutas.insert(2,\"Kiwi\")\n",
    "frutas"
   ]
  },
  {
   "cell_type": "code",
   "execution_count": 24,
   "id": "02d2b7ac-bbdd-4970-8764-023ad14d549c",
   "metadata": {},
   "outputs": [
    {
     "data": {
      "text/plain": [
       "'Mango'"
      ]
     },
     "execution_count": 24,
     "metadata": {},
     "output_type": "execute_result"
    }
   ],
   "source": [
    "frutas.pop()"
   ]
  },
  {
   "cell_type": "code",
   "execution_count": 25,
   "id": "fe2ea801-495e-44bc-bf03-0a1873411661",
   "metadata": {},
   "outputs": [],
   "source": [
    "frutas.append(\"Cereza\")"
   ]
  },
  {
   "cell_type": "code",
   "execution_count": 26,
   "id": "e1d4de25-710b-4865-8d5b-84b54a56f0dd",
   "metadata": {},
   "outputs": [
    {
     "data": {
      "text/plain": [
       "['Banana', 'Ciruela', 'Kiwi', 'Naranja', 'Pera', 'Uva', 'Cereza']"
      ]
     },
     "execution_count": 26,
     "metadata": {},
     "output_type": "execute_result"
    }
   ],
   "source": [
    "frutas"
   ]
  },
  {
   "cell_type": "code",
   "execution_count": 27,
   "id": "c3745b85-b3f6-4142-9cff-56232255f510",
   "metadata": {},
   "outputs": [
    {
     "data": {
      "text/plain": [
       "['Banana', 'Cereza', 'Ciruela', 'Kiwi', 'Naranja', 'Pera', 'Uva']"
      ]
     },
     "execution_count": 27,
     "metadata": {},
     "output_type": "execute_result"
    }
   ],
   "source": [
    "frutas.sort()\n",
    "frutas"
   ]
  },
  {
   "cell_type": "code",
   "execution_count": 29,
   "id": "034c7750-9ee8-4099-a3b3-e17bdc794778",
   "metadata": {},
   "outputs": [],
   "source": [
    "frutas.remove(\"Kiwi\")"
   ]
  },
  {
   "cell_type": "code",
   "execution_count": 30,
   "id": "dd04265f-0ac3-477b-9c38-c1877ca9c8c1",
   "metadata": {},
   "outputs": [
    {
     "data": {
      "text/plain": [
       "['Banana', 'Cereza', 'Ciruela', 'Naranja', 'Pera', 'Uva']"
      ]
     },
     "execution_count": 30,
     "metadata": {},
     "output_type": "execute_result"
    }
   ],
   "source": [
    "frutas"
   ]
  },
  {
   "cell_type": "code",
   "execution_count": 31,
   "id": "dbcc6b82-b2e8-4dcd-a562-05f57fe76690",
   "metadata": {},
   "outputs": [
    {
     "data": {
      "text/plain": [
       "6"
      ]
     },
     "execution_count": 31,
     "metadata": {},
     "output_type": "execute_result"
    }
   ],
   "source": [
    "len(frutas)"
   ]
  },
  {
   "cell_type": "code",
   "execution_count": 32,
   "id": "44739b26-5bca-40ab-9c33-3893936a84b3",
   "metadata": {},
   "outputs": [
    {
     "data": {
      "text/plain": [
       "['__add__',\n",
       " '__class__',\n",
       " '__class_getitem__',\n",
       " '__contains__',\n",
       " '__delattr__',\n",
       " '__delitem__',\n",
       " '__dir__',\n",
       " '__doc__',\n",
       " '__eq__',\n",
       " '__format__',\n",
       " '__ge__',\n",
       " '__getattribute__',\n",
       " '__getitem__',\n",
       " '__getstate__',\n",
       " '__gt__',\n",
       " '__hash__',\n",
       " '__iadd__',\n",
       " '__imul__',\n",
       " '__init__',\n",
       " '__init_subclass__',\n",
       " '__iter__',\n",
       " '__le__',\n",
       " '__len__',\n",
       " '__lt__',\n",
       " '__mul__',\n",
       " '__ne__',\n",
       " '__new__',\n",
       " '__reduce__',\n",
       " '__reduce_ex__',\n",
       " '__repr__',\n",
       " '__reversed__',\n",
       " '__rmul__',\n",
       " '__setattr__',\n",
       " '__setitem__',\n",
       " '__sizeof__',\n",
       " '__str__',\n",
       " '__subclasshook__',\n",
       " 'append',\n",
       " 'clear',\n",
       " 'copy',\n",
       " 'count',\n",
       " 'extend',\n",
       " 'index',\n",
       " 'insert',\n",
       " 'pop',\n",
       " 'remove',\n",
       " 'reverse',\n",
       " 'sort']"
      ]
     },
     "execution_count": 32,
     "metadata": {},
     "output_type": "execute_result"
    }
   ],
   "source": [
    "dir(frutas)"
   ]
  },
  {
   "cell_type": "code",
   "execution_count": 33,
   "id": "431469b8-3112-4b91-928f-faa0a318d891",
   "metadata": {},
   "outputs": [
    {
     "data": {
      "text/plain": [
       "8"
      ]
     },
     "execution_count": 33,
     "metadata": {},
     "output_type": "execute_result"
    }
   ],
   "source": [
    "len(\"Fabricio\")"
   ]
  },
  {
   "cell_type": "code",
   "execution_count": 34,
   "id": "d7e7bbc4-b837-4583-8f6d-1dc5f14affbe",
   "metadata": {},
   "outputs": [
    {
     "data": {
      "text/plain": [
       "6"
      ]
     },
     "execution_count": 34,
     "metadata": {},
     "output_type": "execute_result"
    }
   ],
   "source": [
    "len(frutas)"
   ]
  },
  {
   "cell_type": "code",
   "execution_count": 35,
   "id": "36841097-bef3-4331-b0dd-265c4cb8258f",
   "metadata": {},
   "outputs": [
    {
     "data": {
      "text/plain": [
       "[1, 2, 3, 4, 5, 6]"
      ]
     },
     "execution_count": 35,
     "metadata": {},
     "output_type": "execute_result"
    }
   ],
   "source": [
    "lista1=[1,2,3]\n",
    "lista2=[4,5,6]\n",
    "combinada=lista1+lista2\n",
    "combinada"
   ]
  },
  {
   "cell_type": "code",
   "execution_count": 39,
   "id": "a213a96c-aceb-4b53-98ed-1947482c28f0",
   "metadata": {},
   "outputs": [],
   "source": [
    "repetida= lista1 *5"
   ]
  },
  {
   "cell_type": "code",
   "execution_count": 40,
   "id": "3d777a7d-8dbe-47b3-8a6e-5bb81be85e1d",
   "metadata": {},
   "outputs": [
    {
     "data": {
      "text/plain": [
       "[1, 2, 3, 1, 2, 3, 1, 2, 3, 1, 2, 3, 1, 2, 3]"
      ]
     },
     "execution_count": 40,
     "metadata": {},
     "output_type": "execute_result"
    }
   ],
   "source": [
    "repetida"
   ]
  },
  {
   "cell_type": "code",
   "execution_count": 41,
   "id": "bc92dcca-711a-401f-a819-c287c643f6c8",
   "metadata": {},
   "outputs": [
    {
     "data": {
      "text/plain": [
       "[2, 3, 4]"
      ]
     },
     "execution_count": 41,
     "metadata": {},
     "output_type": "execute_result"
    }
   ],
   "source": [
    "sublista=combinada[1:4]\n",
    "sublista"
   ]
  },
  {
   "cell_type": "code",
   "execution_count": 42,
   "id": "517f7d98-dd65-458d-9d9e-33bc48feae3d",
   "metadata": {},
   "outputs": [
    {
     "data": {
      "text/plain": [
       "[2, 3]"
      ]
     },
     "execution_count": 42,
     "metadata": {},
     "output_type": "execute_result"
    }
   ],
   "source": [
    "sublista2=repetida[1:3]\n",
    "sublista2"
   ]
  },
  {
   "cell_type": "code",
   "execution_count": 43,
   "id": "e6b485b5-4b45-418a-8702-11b09e44b5f0",
   "metadata": {},
   "outputs": [
    {
     "data": {
      "text/plain": [
       "tuple"
      ]
     },
     "execution_count": 43,
     "metadata": {},
     "output_type": "execute_result"
    }
   ],
   "source": [
    "t=1,2\n",
    "type(t)"
   ]
  },
  {
   "cell_type": "code",
   "execution_count": 44,
   "id": "ef7450bb-70a5-455a-96af-780053665c5c",
   "metadata": {},
   "outputs": [
    {
     "data": {
      "text/plain": [
       "2"
      ]
     },
     "execution_count": 44,
     "metadata": {},
     "output_type": "execute_result"
    }
   ],
   "source": [
    "tt=(1,2,3)\n",
    "tt[1]"
   ]
  },
  {
   "cell_type": "code",
   "execution_count": 45,
   "id": "a38e2cf8-26c7-426a-8baa-d90c789a91a5",
   "metadata": {},
   "outputs": [
    {
     "data": {
      "text/plain": [
       "('Darwin', 'Guzman', 19)"
      ]
     },
     "execution_count": 45,
     "metadata": {},
     "output_type": "execute_result"
    }
   ],
   "source": [
    "tm=(\"Darwin\", \"Guzman\", 19)\n",
    "tm"
   ]
  },
  {
   "cell_type": "code",
   "execution_count": 46,
   "id": "b46d62f6-e5f8-4507-979f-ad12c66425e5",
   "metadata": {},
   "outputs": [
    {
     "data": {
      "text/plain": [
       "tuple"
      ]
     },
     "execution_count": 46,
     "metadata": {},
     "output_type": "execute_result"
    }
   ],
   "source": [
    "type(tm)"
   ]
  },
  {
   "cell_type": "code",
   "execution_count": 47,
   "id": "ba373d03-7577-432d-955c-f8c8d2ffd310",
   "metadata": {},
   "outputs": [
    {
     "data": {
      "text/plain": [
       "'Guzman'"
      ]
     },
     "execution_count": 47,
     "metadata": {},
     "output_type": "execute_result"
    }
   ],
   "source": [
    "elemento=tm[1]\n",
    "elemento"
   ]
  },
  {
   "cell_type": "code",
   "execution_count": 48,
   "id": "42508290-6eab-4b5b-86ac-8ea46a85859f",
   "metadata": {},
   "outputs": [
    {
     "data": {
      "text/plain": [
       "'GUZMAN'"
      ]
     },
     "execution_count": 48,
     "metadata": {},
     "output_type": "execute_result"
    }
   ],
   "source": [
    "elemento.upper()"
   ]
  },
  {
   "cell_type": "code",
   "execution_count": 49,
   "id": "270c9a6e-7ea6-488b-b631-797043f49205",
   "metadata": {},
   "outputs": [
    {
     "data": {
      "text/plain": [
       "'guzman'"
      ]
     },
     "execution_count": 49,
     "metadata": {},
     "output_type": "execute_result"
    }
   ],
   "source": [
    "elemento.lower()"
   ]
  },
  {
   "cell_type": "code",
   "execution_count": 55,
   "id": "965a149f-2644-49d7-abab-7896a1887f81",
   "metadata": {},
   "outputs": [],
   "source": [
    "tupla5=(1,2,3)\n",
    "tupla5[0]\n",
    "a,b,c=tupla5"
   ]
  },
  {
   "cell_type": "code",
   "execution_count": 58,
   "id": "eb5fd17b-5435-4e71-8fd5-e89954f042fc",
   "metadata": {},
   "outputs": [
    {
     "data": {
      "text/plain": [
       "[(8, 1, 2006), ('Darwin', 'Guzman')]"
      ]
     },
     "execution_count": 58,
     "metadata": {},
     "output_type": "execute_result"
    }
   ],
   "source": [
    "nacimiento=(8,1,2006)\n",
    "cliente=(\"Darwin\", \"Guzman\")\n",
    "info=[nacimiento,cliente]\n",
    "info"
   ]
  },
  {
   "cell_type": "code",
   "execution_count": null,
   "id": "382f0447-ae24-4768-b186-4833f72c2b03",
   "metadata": {},
   "outputs": [],
   "source": []
  }
 ],
 "metadata": {
  "kernelspec": {
   "display_name": "Python [conda env:base] *",
   "language": "python",
   "name": "conda-base-py"
  },
  "language_info": {
   "codemirror_mode": {
    "name": "ipython",
    "version": 3
   },
   "file_extension": ".py",
   "mimetype": "text/x-python",
   "name": "python",
   "nbconvert_exporter": "python",
   "pygments_lexer": "ipython3",
   "version": "3.12.7"
  }
 },
 "nbformat": 4,
 "nbformat_minor": 5
}
