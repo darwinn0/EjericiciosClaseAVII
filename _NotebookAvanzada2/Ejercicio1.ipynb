{
 "cells": [
  {
   "cell_type": "code",
   "execution_count": 1,
   "id": "9bc9efd8-cd22-4cab-bcfc-f31e788f0744",
   "metadata": {},
   "outputs": [
    {
     "name": "stdout",
     "output_type": "stream",
     "text": [
      "El total de la compra es : 8625.0\n"
     ]
    }
   ],
   "source": [
    "\n",
    "Isv=0.15\n",
    "\n",
    "cantidad= int(input(\"Por favor ingrese la cantidad: \"))\n",
    "if cantidad >= 10000:\n",
    "    Descuento=0.25\n",
    "else:\n",
    "    Descuento=0\n",
    "TotalCompra= cantidad - (cantidad * Descuento)\n",
    "TotalCompra= TotalCompra + (TotalCompra * Isv)\n",
    "print(f\"El total de la compra es : {TotalCompra}\")"
   ]
  }
 ],
 "metadata": {
  "kernelspec": {
   "display_name": "base",
   "language": "python",
   "name": "python3"
  },
  "language_info": {
   "codemirror_mode": {
    "name": "ipython",
    "version": 3
   },
   "file_extension": ".py",
   "mimetype": "text/x-python",
   "name": "python",
   "nbconvert_exporter": "python",
   "pygments_lexer": "ipython3",
   "version": "3.12.7"
  }
 },
 "nbformat": 4,
 "nbformat_minor": 5
}
