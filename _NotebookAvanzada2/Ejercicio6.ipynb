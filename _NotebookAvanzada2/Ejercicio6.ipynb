{
 "cells": [
  {
   "cell_type": "code",
   "execution_count": 1,
   "id": "e02cc69f-774f-4c4c-ab47-af6af377aa8a",
   "metadata": {},
   "outputs": [
    {
     "name": "stdin",
     "output_type": "stream",
     "text": [
      "Por favor ingrese el primer numero:  3\n",
      "Por favor ingrese el segundo numero:  6\n",
      "Por favor ingrese el tercer numero:  9\n"
     ]
    },
    {
     "name": "stdout",
     "output_type": "stream",
     "text": [
      "El numero mayor es 9.\n"
     ]
    }
   ],
   "source": [
    "# Programa que evalua cual de los tres numeros es mayor\n",
    "\n",
    "num1=int(input(\"Por favor ingrese el primer numero: \"))\n",
    "num2=int(input(\"Por favor ingrese el segundo numero: \"))\n",
    "num3=int(input(\"Por favor ingrese el tercer numero: \"))\n",
    "if num1>num2 and num1>num3:\n",
    "    print(f\"El numero mayor es {num1}.\")\n",
    "elif num2>num1 and num2>num3:\n",
    "    print(f\"El numero mayor es {num2}.\")\n",
    "elif num3>num1 and num3>num2:\n",
    "    print(f\"El numero mayor es {num3}.\")\n",
    "else:\n",
    "    print(\"Los numeros son iguales.\")\n",
    "\n"
   ]
  },
  {
   "cell_type": "code",
   "execution_count": null,
   "id": "64a98433-6be9-45b4-b6e1-88b9a0027d32",
   "metadata": {},
   "outputs": [],
   "source": []
  }
 ],
 "metadata": {
  "kernelspec": {
   "display_name": "Python [conda env:base] *",
   "language": "python",
   "name": "conda-base-py"
  },
  "language_info": {
   "codemirror_mode": {
    "name": "ipython",
    "version": 3
   },
   "file_extension": ".py",
   "mimetype": "text/x-python",
   "name": "python",
   "nbconvert_exporter": "python",
   "pygments_lexer": "ipython3",
   "version": "3.12.7"
  }
 },
 "nbformat": 4,
 "nbformat_minor": 5
}
