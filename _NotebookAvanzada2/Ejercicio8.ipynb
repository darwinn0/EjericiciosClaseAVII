{
 "cells": [
  {
   "cell_type": "code",
   "execution_count": null,
   "id": "ec3fc13a-e3d8-4592-b045-44c00d14d384",
   "metadata": {},
   "outputs": [],
   "source": []
  }
 ],
 "metadata": {
  "kernelspec": {
   "display_name": "",
   "name": ""
  },
  "language_info": {
   "name": ""
  }
 },
 "nbformat": 4,
 "nbformat_minor": 5
}
