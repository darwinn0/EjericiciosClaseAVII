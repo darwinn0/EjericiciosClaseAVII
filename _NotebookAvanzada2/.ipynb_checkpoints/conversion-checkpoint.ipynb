{
 "cells": [
  {
   "cell_type": "code",
   "execution_count": null,
   "id": "b225acf8",
   "metadata": {},
   "outputs": [
    {
     "name": "stdout",
     "output_type": "stream",
     "text": [
      "Ejericio de conversion de moneda\n",
      "1. Lempira a Dolar\n",
      "2. Lempira a Euro\n"
     ]
    }
   ],
   "source": [
    "# ejercicio de conversion de lempira a dolar y a euro\n",
    "print (\"Ejericio de conversion de moneda\")\n",
    "dolar = 25\n",
    "euro = 35\n",
    "lempira = 1\n",
    "\n",
    "# escoger que moneda convertir \n",
    "print (\"1. Lempira a Dolar\")\n",
    "print (\"2. Lempira a Euro\")\n",
    "opcion = int(input(\"Elige una opcion: \"))\n",
    "if opcion == 1:\n",
    "    dolar = dolar(input(\"Ingrese la cantidad de dolares que desea convertir a lempiras y euros\"))\n",
    "    dolarLempira = dolar * 25\n",
    "    dolarEuro = dolar * 0.035\n",
    "    print(f\"La cantidad de dolares en euros es: {dolarEuro}\")\n",
    "    print(f\"La cantidad de dolares a a lempiras es: {dolarLempira} \")\n"
   ]
  }
 ],
 "metadata": {
  "kernelspec": {
   "display_name": "base",
   "language": "python",
   "name": "python3"
  },
  "language_info": {
   "codemirror_mode": {
    "name": "ipython",
    "version": 3
   },
   "file_extension": ".py",
   "mimetype": "text/x-python",
   "name": "python",
   "nbconvert_exporter": "python",
   "pygments_lexer": "ipython3",
   "version": "3.12.7"
  }
 },
 "nbformat": 4,
 "nbformat_minor": 5
}
