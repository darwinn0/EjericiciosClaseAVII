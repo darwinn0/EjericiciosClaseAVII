{
 "cells": [
  {
   "cell_type": "markdown",
   "id": "a4e42de2-afec-4679-a358-782c7f02c150",
   "metadata": {},
   "source": [
    "## Guardar los siguientes valores en una tupla, el valor de la gravedad=9.8 y el valor de la ingravidez=0 y crear un diccionario para calcular la velocidad de un dispositivo en caida libre en con gravedad e ingravidez"
   ]
  },
  {
   "cell_type": "code",
   "execution_count": 4,
   "id": "20af1b58-f6b3-4ce2-aa01-05a8acd8cddb",
   "metadata": {},
   "outputs": [
    {
     "name": "stdin",
     "output_type": "stream",
     "text": [
      "Ingresa el tiempo en segundos:  3\n"
     ]
    },
    {
     "name": "stdout",
     "output_type": "stream",
     "text": [
      "\n",
      "Resultados:\n",
      "velocidad_con_gravedad: 29.400000000000002 m/s\n",
      "velocidad_con_ingravidez: 0.0 m/s\n"
     ]
    }
   ],
   "source": [
    "Gravedad=(9.80)\n",
    "Ingravidez=(0)\n",
    "\n",
    "valores = {\n",
    "    \"gravedad\": gravedad_ingravidez[0],\n",
    "    \"ingravidez\": gravedad_ingravidez[1]\n",
    "}\n",
    "\n",
    "# Fórmula: velocidad = gravedad * tiempo\n",
    "tiempo = float(input(\"Ingresa el tiempo en segundos: \"))\n",
    "\n",
    "velocidades = {\n",
    "    \"velocidad_con_gravedad\": valores[\"gravedad\"] * tiempo,\n",
    "    \"velocidad_con_ingravidez\": valores[\"ingravidez\"] * tiempo\n",
    "}\n",
    "\n",
    "# 4. Mostrar resultados\n",
    "print(\"\\nResultados:\")\n",
    "for tipo, velocidad in velocidades.items():\n",
    "    print(f\"{tipo}: {velocidad} m/s\")\n"
   ]
  },
  {
   "cell_type": "code",
   "execution_count": null,
   "id": "a6aef0c2-d292-4c83-891d-4829ebaacc80",
   "metadata": {},
   "outputs": [],
   "source": []
  }
 ],
 "metadata": {
  "kernelspec": {
   "display_name": "Python [conda env:base] *",
   "language": "python",
   "name": "conda-base-py"
  },
  "language_info": {
   "codemirror_mode": {
    "name": "ipython",
    "version": 3
   },
   "file_extension": ".py",
   "mimetype": "text/x-python",
   "name": "python",
   "nbconvert_exporter": "python",
   "pygments_lexer": "ipython3",
   "version": "3.12.7"
  }
 },
 "nbformat": 4,
 "nbformat_minor": 5
}
