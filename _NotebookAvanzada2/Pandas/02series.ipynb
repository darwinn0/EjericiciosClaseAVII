{
 "cells": [
  {
   "cell_type": "code",
   "execution_count": 4,
   "id": "7577eca5",
   "metadata": {},
   "outputs": [
    {
     "data": {
      "text/plain": [
       "0                   A CORUNA\n",
       "1                   ALBACETE\n",
       "2                   ALICANTE\n",
       "3                    ALMERIA\n",
       "4                      ARABA\n",
       "5                   ASTURIAS\n",
       "6                      AVILA\n",
       "7                    BADAJOZ\n",
       "8              ILLES BALEARS\n",
       "9                  BARCELONA\n",
       "10                   BIZKAIA\n",
       "11                    BURGOS\n",
       "12                   CACERES\n",
       "13                     CADIZ\n",
       "14                 CANTABRIA\n",
       "15                 CASTELLON\n",
       "16                     CEUTA\n",
       "17               CIUDAD REAL\n",
       "18                   CORDOBA\n",
       "19                    CUENCA\n",
       "20                  GIPUZKOA\n",
       "21                    GIRONA\n",
       "22                   GRANADA\n",
       "23               GUADALAJARA\n",
       "24                    HUELVA\n",
       "25                    HUESCA\n",
       "26                      JAEN\n",
       "27                  LA RIOJA\n",
       "28                LAS PALMAS\n",
       "29                      LEON\n",
       "30                    LLEIDA\n",
       "31                      LUGO\n",
       "32                    MADRID\n",
       "33                    MALAGA\n",
       "34                   MELILLA\n",
       "35                    MURCIA\n",
       "36                   NAVARRA\n",
       "37                   OURENSE\n",
       "38                  PALENCIA\n",
       "39                PONTEVEDRA\n",
       "40                 SALAMANCA\n",
       "41    SANTA CRUZ DE TENERIFE\n",
       "42                   SEGOVIA\n",
       "43                   SEVILLA\n",
       "44                     SORIA\n",
       "45                 TARRAGONA\n",
       "46                    TERUEL\n",
       "47                    TOLEDO\n",
       "48                  VALENCIA\n",
       "49                VALLADOLID\n",
       "50                    ZAMORA\n",
       "51                  ZARAGOZA\n",
       "Name: region, dtype: object"
      ]
     },
     "execution_count": 4,
     "metadata": {},
     "output_type": "execute_result"
    }
   ],
   "source": [
    "import pandas as pd\n",
    "df=pd.read_csv(r\"C:\\_NotebookAvanzada2\\Pandas\\Precipitaciones.csv\")\n",
    "series=df[\"region\"]\n",
    "series "
   ]
  },
  {
   "cell_type": "code",
   "execution_count": 5,
   "id": "7d7d45fc",
   "metadata": {},
   "outputs": [
    {
     "data": {
      "text/plain": [
       "0     240.5\n",
       "1      68.1\n",
       "2      49.2\n",
       "3      56.3\n",
       "4      96.8\n",
       "5     196.9\n",
       "6      67.6\n",
       "7      62.2\n",
       "8      81.2\n",
       "9      26.8\n",
       "10    175.7\n",
       "11     75.8\n",
       "12     70.5\n",
       "13    148.5\n",
       "14    180.7\n",
       "15     56.6\n",
       "16    261.9\n",
       "17     84.0\n",
       "18     88.6\n",
       "19     93.6\n",
       "20    173.0\n",
       "21     34.9\n",
       "22     72.2\n",
       "23     88.4\n",
       "24     50.7\n",
       "25     84.3\n",
       "26    100.6\n",
       "27     72.8\n",
       "28     44.1\n",
       "29     92.0\n",
       "30     59.3\n",
       "31    179.5\n",
       "32     69.3\n",
       "33    139.5\n",
       "34     44.9\n",
       "35     44.5\n",
       "36     98.8\n",
       "37    138.9\n",
       "38     52.3\n",
       "39    255.4\n",
       "40     52.9\n",
       "41     90.6\n",
       "42     63.3\n",
       "43     91.1\n",
       "44     75.1\n",
       "45     52.7\n",
       "46     54.1\n",
       "47     83.0\n",
       "48     61.9\n",
       "49     29.2\n",
       "50     53.0\n",
       "51     52.0\n",
       "Name: enero, dtype: float64"
      ]
     },
     "execution_count": 5,
     "metadata": {},
     "output_type": "execute_result"
    }
   ],
   "source": [
    "series2=df[\"enero\"]\n",
    "series2"
   ]
  },
  {
   "cell_type": "code",
   "execution_count": 6,
   "id": "caf19e0e",
   "metadata": {},
   "outputs": [
    {
     "name": "stdout",
     "output_type": "stream",
     "text": [
      "2.2.3\n"
     ]
    }
   ],
   "source": [
    "import pandas as pd\n",
    "print(pd.__version__)"
   ]
  }
 ],
 "metadata": {
  "kernelspec": {
   "display_name": "base",
   "language": "python",
   "name": "python3"
  },
  "language_info": {
   "codemirror_mode": {
    "name": "ipython",
    "version": 3
   },
   "file_extension": ".py",
   "mimetype": "text/x-python",
   "name": "python",
   "nbconvert_exporter": "python",
   "pygments_lexer": "ipython3",
   "version": "3.12.7"
  }
 },
 "nbformat": 4,
 "nbformat_minor": 5
}
