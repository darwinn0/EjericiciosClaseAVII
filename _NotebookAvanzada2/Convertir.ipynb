{
 "cells": [
  {
   "cell_type": "code",
   "execution_count": 1,
   "id": "2720a1fa-66e8-4cef-ba7c-f79773184b64",
   "metadata": {},
   "outputs": [
    {
     "name": "stdout",
     "output_type": "stream",
     "text": [
      "Ejercicio de convercion de monedas\n"
     ]
    }
   ],
   "source": [
    "print(\"Ejercicio de convercion de monedas\")"
   ]
  },
  {
   "cell_type": "code",
   "execution_count": 4,
   "id": "245a2746-de4a-45d1-a001-e4ab23897b75",
   "metadata": {},
   "outputs": [
    {
     "name": "stdout",
     "output_type": "stream",
     "text": [
      "Ejericio de conversion de moneda\n"
     ]
    },
    {
     "ename": "NameError",
     "evalue": "name 'opcion' is not defined",
     "output_type": "error",
     "traceback": [
      "\u001b[1;31m---------------------------------------------------------------------------\u001b[0m",
      "\u001b[1;31mNameError\u001b[0m                                 Traceback (most recent call last)",
      "Cell \u001b[1;32mIn[4], line 34\u001b[0m\n\u001b[0;32m     30\u001b[0m     \u001b[38;5;28;01melse\u001b[39;00m:\n\u001b[0;32m     31\u001b[0m         \u001b[38;5;28mprint\u001b[39m(\u001b[38;5;124m\"\u001b[39m\u001b[38;5;124mOpcion ingresada no existente.\u001b[39m\u001b[38;5;124m\"\u001b[39m)\n\u001b[1;32m---> 34\u001b[0m convertir(opcion)\n",
      "\u001b[1;31mNameError\u001b[0m: name 'opcion' is not defined"
     ]
    }
   ],
   "source": [
    "print (\"Ejericio de conversion de moneda\")\n",
    "\n",
    "def convertir():\n",
    "    print(\"1. Dolar\")\n",
    "    print(\"2. Euro\")\n",
    "    print(\"3. Lempira\")\n",
    "    opcion= int(input(\" Ingrese la moneda que desea convertir:\")) \n",
    "    \n",
    "    if opcion == 1:\n",
    "        dolar = float(input(\"Por favor ingrese la cantidad a convertir: \"))\n",
    "        dolarLempira= dolar * 25\n",
    "        dolarEuro= dolar * 0.85\n",
    "        print (f\"La cantidad de dolares a lempira es: {dolarLempira}\")\n",
    "        print(f\"La cantidad de dolares a Euros es: {dolarEuro}\")\n",
    "\n",
    "    elif opcion == 2:\n",
    "        euro=float(input(\"Por favor ingrese la cantidad de Euros a convertir: \"))\n",
    "        euroDolar= euro * 0.035\n",
    "        euroLempira = euro * 35\n",
    "        print(f\"La cantidad de Euros a Dolares es: {euroDolar}\")\n",
    "        print(f\"La cantidad de Euros a Lempiras es: {euroLempira}\")\n",
    "\n",
    "    elif opcion == 3:\n",
    "        lempira=float(input(\"Por favor ingrese la cantidad de lempiras a convertir: \"))\n",
    "        lempiraDolar= lempira * 25\n",
    "        lempiraEuro= lempira * 35\n",
    "        print(f\"La cantidad de lempiras de Dolares es: {lempiraDolar}\")\n",
    "        print(f\"La cantidad de lempiras a Euros es: {lempiraEuro} \")\n",
    "    else:\n",
    "        print(\"Opcion ingresada no existente.\")\n",
    "\n",
    "\n",
    "convertir()\n",
    "    \n"
   ]
  },
  {
   "cell_type": "code",
   "execution_count": null,
   "id": "aaa0538d-0a67-40ce-8a90-657bdec34e3a",
   "metadata": {},
   "outputs": [],
   "source": []
  }
 ],
 "metadata": {
  "kernelspec": {
   "display_name": "Python [conda env:base] *",
   "language": "python",
   "name": "conda-base-py"
  },
  "language_info": {
   "codemirror_mode": {
    "name": "ipython",
    "version": 3
   },
   "file_extension": ".py",
   "mimetype": "text/x-python",
   "name": "python",
   "nbconvert_exporter": "python",
   "pygments_lexer": "ipython3",
   "version": "3.12.7"
  }
 },
 "nbformat": 4,
 "nbformat_minor": 5
}
