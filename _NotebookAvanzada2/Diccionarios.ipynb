{
 "cells": [
  {
   "cell_type": "code",
   "execution_count": 1,
   "id": "28d70949-a840-4355-9915-57c3c822f3f7",
   "metadata": {},
   "outputs": [
    {
     "data": {
      "text/plain": [
       "dict"
      ]
     },
     "execution_count": 1,
     "metadata": {},
     "output_type": "execute_result"
    }
   ],
   "source": [
    "dic={}\n",
    "type(dic)"
   ]
  },
  {
   "cell_type": "code",
   "execution_count": 3,
   "id": "2a92f33a-0d3b-4aa8-b311-65a7493b6bdb",
   "metadata": {},
   "outputs": [
    {
     "data": {
      "text/plain": [
       "{'Funez': 11, 'Rafa': 30, 'Cleofas': 22, 'Baruc': 19}"
      ]
     },
     "execution_count": 3,
     "metadata": {},
     "output_type": "execute_result"
    }
   ],
   "source": [
    "edades={\"Funez\":25, \"Rafa\": 30, \"Cleofas\": 22, \"Baruc\": 19}\n",
    "edades[\"Funez\"]=11\n",
    "edades"
   ]
  },
  {
   "cell_type": "code",
   "execution_count": 4,
   "id": "c152bb25-89ba-4629-937a-d23e150e037b",
   "metadata": {},
   "outputs": [
    {
     "data": {
      "text/plain": [
       "dict_keys(['Funez', 'Rafa', 'Cleofas', 'Baruc'])"
      ]
     },
     "execution_count": 4,
     "metadata": {},
     "output_type": "execute_result"
    }
   ],
   "source": [
    "edades.keys()"
   ]
  },
  {
   "cell_type": "code",
   "execution_count": 6,
   "id": "19521816-62bb-4c43-84d5-f65a8f0e8bfa",
   "metadata": {},
   "outputs": [
    {
     "data": {
      "text/plain": [
       "dict_values([11, 30, 22, 19])"
      ]
     },
     "execution_count": 6,
     "metadata": {},
     "output_type": "execute_result"
    }
   ],
   "source": [
    "edades.values()"
   ]
  },
  {
   "cell_type": "code",
   "execution_count": 7,
   "id": "4aaa958f-93d8-4c28-b87e-bd11de563fe1",
   "metadata": {},
   "outputs": [
    {
     "data": {
      "text/plain": [
       "dict_items([('Funez', 11), ('Rafa', 30), ('Cleofas', 22), ('Baruc', 19)])"
      ]
     },
     "execution_count": 7,
     "metadata": {},
     "output_type": "execute_result"
    }
   ],
   "source": [
    "edades.items()"
   ]
  },
  {
   "cell_type": "code",
   "execution_count": null,
   "id": "497c6bcd-31b5-4561-b593-cfea04ca448a",
   "metadata": {},
   "outputs": [],
   "source": []
  }
 ],
 "metadata": {
  "kernelspec": {
   "display_name": "Python [conda env:base] *",
   "language": "python",
   "name": "conda-base-py"
  },
  "language_info": {
   "codemirror_mode": {
    "name": "ipython",
    "version": 3
   },
   "file_extension": ".py",
   "mimetype": "text/x-python",
   "name": "python",
   "nbconvert_exporter": "python",
   "pygments_lexer": "ipython3",
   "version": "3.12.7"
  }
 },
 "nbformat": 4,
 "nbformat_minor": 5
}
